{
 "cells": [
  {
   "cell_type": "markdown",
   "id": "4a4cbe1e",
   "metadata": {},
   "source": [
    "# Performance Evaluation (Visualization)\n",
    "\n",
    "This python notebook attempts to recreate all the graphs found in our paper submission. Along with the notebook, we provide a `requirements.txt` file to install all the required python/visualization tools. Simply run `pip install -r requirements.txt` to install them, and then run the following kernels."
   ]
  },
  {
   "cell_type": "code",
   "execution_count": null,
   "id": "77e1801e",
   "metadata": {},
   "outputs": [],
   "source": [
    "import altair as alt\n",
    "import numpy as np\n",
    "import pandas as pd\n",
    "from vega_datasets import data\n",
    "from altair_saver import save\n",
    "import os\n",
    "import sys"
   ]
  },
  {
   "cell_type": "markdown",
   "id": "d348dd26",
   "metadata": {},
   "source": [
    "## Path to generated data\n",
    "Currently points to: `<repo>/docs/data` with all the generated results in csv files."
   ]
  },
  {
   "cell_type": "code",
   "execution_count": null,
   "id": "7d77185a",
   "metadata": {},
   "outputs": [],
   "source": [
    "data_dir = os.path.abspath(\"data\")"
   ]
  },
  {
   "cell_type": "markdown",
   "id": "bc9433f3",
   "metadata": {},
   "source": [
    "## Figure 2. SpMV runtime comparison versus CUB\n",
    "Recreates the overhead analysis of SpMV merge-path versus CUB's SpMV implementation."
   ]
  },
  {
   "cell_type": "code",
   "execution_count": null,
   "id": "673c482d",
   "metadata": {},
   "outputs": [],
   "source": [
    "versus_cub = os.path.join(data_dir, \"versus_cub.csv\")\n",
    "df_overhead = pd.read_csv(versus_cub)\n",
    "\n",
    "df_overhead[\"nnzs\"] = df_overhead[\"nnzs\"].astype(int)\n",
    "df_overhead[\"elapsed\"] = df_overhead[\"elapsed\"].astype(float)"
   ]
  },
  {
   "cell_type": "code",
   "execution_count": null,
   "id": "b990f3c5",
   "metadata": {},
   "outputs": [],
   "source": [
    "alt.data_transformers.disable_max_rows()\n",
    "\n",
    "overhead = alt.Chart(df_overhead).mark_point(\n",
    "    opacity=0.6\n",
    ").encode(\n",
    "    x=alt.X(\n",
    "        \"nnzs:Q\", \n",
    "        scale=alt.Scale(type=\"log\",domain=(1,1000000000)),\n",
    "#         axis=alt.Axis(tickCount=10),\n",
    "        title=\"Number of Nonzeros\"\n",
    "    ),\n",
    "    y=alt.Y(\n",
    "        \"elapsed:Q\", \n",
    "        scale=alt.Scale(type=\"log\",domain=(0.001,100)),\n",
    "        axis=alt.Axis(grid=True), \n",
    "        title=\"Runtime (ms)\"\n",
    "    ),\n",
    "    color=alt.Color(\n",
    "        \"kernel\",\n",
    "        scale=alt.Scale(range=['#76b900','#DC143C']), # scheme='tableau10'),\n",
    "        legend=alt.Legend(title=\"Kernel\",orient='top-left',fillColor='#FFFFFF', strokeColor='#E0DCDC', padding=10)\n",
    "    ),\n",
    "#     facet=alt.Facet('kernel:O', title=None, columns=2),\n",
    "    shape=alt.Shape(\n",
    "        \"kernel\",\n",
    "        scale=alt.Scale(range=['cross', 'triangle-right']),\n",
    "        legend=alt.Legend(title=\"Kernel\",orient='top-left')\n",
    "    ),\n",
    ").properties(\n",
    "    width=700,\n",
    "    height=500\n",
    ").configure_point(\n",
    "    size=6\n",
    ").interactive()\n",
    "\n",
    "overhead\n",
    "# overhead.save(os.path.join(data_dir, \"merge_vs_cub.pdf\"))"
   ]
  },
  {
   "cell_type": "markdown",
   "id": "dd94d5bd",
   "metadata": {},
   "source": [
    "## Figure 3. Complete performance landscape\n",
    "Recreates the complete performance landscape of our SpMV implementation versus cuSparse."
   ]
  },
  {
   "cell_type": "code",
   "execution_count": null,
   "id": "d09e010d",
   "metadata": {},
   "outputs": [],
   "source": [
    "cusparse = pd.read_csv(os.path.join(data_dir, \"cusparse.csv\"))\n",
    "merge_path = pd.read_csv(os.path.join(data_dir, \"merge_path.csv\"))\n",
    "group_mapped = pd.read_csv(os.path.join(data_dir, \"group_mapped.csv\"))\n",
    "thread_mapped = pd.read_csv(os.path.join(data_dir, \"thread_mapped.csv\"))"
   ]
  },
  {
   "cell_type": "code",
   "execution_count": null,
   "id": "804f1553",
   "metadata": {},
   "outputs": [],
   "source": [
    "alt.data_transformers.disable_max_rows()\n",
    "\n",
    "landscape = alt.Chart(df_landscape).mark_point(\n",
    "    opacity=0.7\n",
    ").encode(\n",
    "    x=alt.X(\n",
    "        \"nnzs:Q\", \n",
    "        scale=alt.Scale(type=\"log\",domain=(1,1000000000)),\n",
    "#         axis=alt.Axis(tickCount=10),\n",
    "        title=\"Number of Nonzeros\"\n",
    "    ),\n",
    "    y=alt.Y(\n",
    "        \"elapsed:Q\", \n",
    "        scale=alt.Scale(type=\"log\",domain=(0.001,1000)),\n",
    "        axis=alt.Axis(grid=True), \n",
    "        title=\"Runtime (ms)\"\n",
    "    ),\n",
    "    color=alt.Color(\n",
    "        \"kernel:O\",\n",
    "        scale=alt.Scale(range=['#76b900','#0047AB','#DC143C','#B983FF']), #scheme='tableau10'),\n",
    "        legend=alt.Legend(title=\"Kernel\") #,orient='top-left')\n",
    "    ),\n",
    "    shape=alt.Shape(\n",
    "        \"kernel:O\",\n",
    "        legend=alt.Legend(title=\"Kernel\",orient='top-left',fillColor='#FFFFFF', strokeColor='#E0DCDC', padding=10)\n",
    "    ),\n",
    "    facet=alt.Facet('kernel:N', title=None, spacing={'row':0}, header=alt.Header(labelExpr=\"''\", title=None), columns=2),\n",
    ").properties(\n",
    "    width=400,\n",
    "    height=400\n",
    ").configure_point(\n",
    "    size=7\n",
    ").interactive()\n",
    "\n",
    "landscape\n",
    "# landscape.save(os.path.join(data_dir, \"performance_landscape.pdf\"))"
   ]
  },
  {
   "cell_type": "markdown",
   "id": "cdd4cf5a",
   "metadata": {},
   "source": [
    "## Figure 4. Heuristics Selection (Speedup)\n",
    "Shows our heuristics (presented in the paper) result and also the oracle heuristics."
   ]
  },
  {
   "cell_type": "code",
   "execution_count": null,
   "id": "021bbb08",
   "metadata": {},
   "outputs": [],
   "source": [
    "df_speed_up = pd.read_csv(os.path.join(data_dir, \"heuristics.csv\"))"
   ]
  },
  {
   "cell_type": "code",
   "execution_count": null,
   "id": "de208c19",
   "metadata": {},
   "outputs": [],
   "source": [
    "speed_up = alt.Chart(df_speed_up).mark_point(\n",
    "    opacity=0.7\n",
    ").encode(\n",
    "    x=alt.X(\n",
    "        \"nnzs:Q\", \n",
    "        scale=alt.Scale(type=\"log\",domain=(1,1000000000)),\n",
    "#         axis=alt.Axis(tickCount=10),\n",
    "        title=\"Number of Nonzeros\"\n",
    "    ),\n",
    "    y=alt.Y(\n",
    "        \"speed-up:Q\", \n",
    "        scale=alt.Scale(type=\"log\",domain=(0.1,100)),\n",
    "        axis=alt.Axis(grid=True), \n",
    "        title=\"Speedup w.r.t cuSparse\"\n",
    "    ),\n",
    "    color=alt.Color(\n",
    "        \"kernel\",\n",
    "        scale=alt.Scale(range=['#0047AB','#DC143C','#B983FF']),\n",
    "        legend=alt.Legend(title=\"Kernel\",orient='top-left',fillColor='#FFFFFF', strokeColor='#E0DCDC', padding=10)\n",
    "    ),\n",
    "    shape=alt.Shape(\n",
    "        \"kernel\",\n",
    "        scale=alt.Scale(range=['square', 'triangle', 'cross']),\n",
    "        legend=alt.Legend(title=\"Kernel\") #,orient='top-left')\n",
    "    ),\n",
    ").properties(\n",
    "    width=600,\n",
    "    height=400\n",
    ")\n",
    "\n",
    "speed_up_oracle = alt.Chart(df_speed_up).mark_point(\n",
    "    opacity=0.7\n",
    ").encode(\n",
    "    x=alt.X(\n",
    "        \"nnzs:Q\", \n",
    "        scale=alt.Scale(type=\"log\",domain=(1,1000000000)),\n",
    "#         axis=alt.Axis(tickCount=10),\n",
    "        title=\"Number of Nonzeros\"\n",
    "    ),\n",
    "    y=alt.Y(\n",
    "        \"oracle-speed-up:Q\", \n",
    "        scale=alt.Scale(type=\"log\",domain=(0.1,100)),\n",
    "        axis=alt.Axis(grid=True), \n",
    "        title=\"Oracle Speedup w.r.t cuSparse\"\n",
    "    ),\n",
    "    color=alt.Color(\n",
    "        \"oracle-speed-up-kernel\",\n",
    "        scale=alt.Scale(range=['#0047AB','#DC143C','#B983FF']),\n",
    "        legend=alt.Legend(title=\"Kernel\",orient='top-left',fillColor='#FFFFFF', strokeColor='#E0DCDC', padding=10)\n",
    "    ),\n",
    "    shape=alt.Shape(\n",
    "        \"oracle-speed-up-kernel\",\n",
    "        scale=alt.Scale(range=['square', 'triangle', 'cross']),\n",
    "        legend=alt.Legend(title=\"Kernel\") #,orient='top-left')\n",
    "    ),\n",
    ").properties(\n",
    "    width=600,\n",
    "    height=400\n",
    ")\n",
    "\n",
    "\n",
    "\n",
    "# speed_up\n",
    "speed_up | speed_up_oracle\n",
    "# speed_up.save(os.path.join(data_dir, \"speed_up.pdf\"))\n",
    "# speed_up_oracle.save(os.path.join(data_dir, \"speed_up_oracle.pdf\"))"
   ]
  }
 ],
 "metadata": {
  "kernelspec": {
   "display_name": "Python 3 (ipykernel)",
   "language": "python",
   "name": "python3"
  },
  "language_info": {
   "codemirror_mode": {
    "name": "ipython",
    "version": 3
   },
   "file_extension": ".py",
   "mimetype": "text/x-python",
   "name": "python",
   "nbconvert_exporter": "python",
   "pygments_lexer": "ipython3",
   "version": "3.7.15"
  }
 },
 "nbformat": 4,
 "nbformat_minor": 5
}
